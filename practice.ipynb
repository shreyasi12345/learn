{
 "cells": [
  {
   "cell_type": "code",
   "execution_count": 32,
   "metadata": {},
   "outputs": [
    {
     "data": {
      "text/plain": [
       "[7, 6, 3]"
      ]
     },
     "execution_count": 32,
     "metadata": {},
     "output_type": "execute_result"
    }
   ],
   "source": [
    "#reverse a string/lst\n",
    "s=[3,6,7]\n",
    "s=s[::-1]\n",
    "s"
   ]
  },
  {
   "cell_type": "code",
   "execution_count": 33,
   "metadata": {},
   "outputs": [
    {
     "data": {
      "text/plain": [
       "8888"
      ]
     },
     "execution_count": 33,
     "metadata": {},
     "output_type": "execute_result"
    }
   ],
   "source": [
    "#largest number in array\n",
    "num=[1,2,8,0,99,8888]\n",
    "max=0\n",
    "for i in range (len(num)):\n",
    "    if max<num[i]:\n",
    "        max=num[i]\n",
    "max\n",
    "\n",
    "\n"
   ]
  },
  {
   "cell_type": "code",
   "execution_count": 34,
   "metadata": {},
   "outputs": [
    {
     "name": "stdout",
     "output_type": "stream",
     "text": [
      "prime 13\n"
     ]
    }
   ],
   "source": [
    "#number is prime\n",
    "num=13\n",
    "c=0\n",
    "for i in range (1,num+1):\n",
    "    if num%i==0:\n",
    "        c=c+1\n",
    "if (c==2):\n",
    "    print(f\"prime {num}\")\n",
    "    "
   ]
  },
  {
   "cell_type": "code",
   "execution_count": 35,
   "metadata": {},
   "outputs": [
    {
     "name": "stdout",
     "output_type": "stream",
     "text": [
      "not palindrome\n"
     ]
    }
   ],
   "source": [
    "#palindrome\n",
    "num=21\n",
    "rev=0\n",
    "copy=num\n",
    "while num>0:\n",
    "    digit=num%10\n",
    "    rev=rev*10+digit\n",
    "    num=num//10\n",
    "if (rev==copy):\n",
    "    print(\"palindrome\")\n",
    "else:\n",
    "    print(\"not palindrome\")\n"
   ]
  },
  {
   "cell_type": "code",
   "execution_count": 36,
   "metadata": {},
   "outputs": [
    {
     "name": "stdout",
     "output_type": "stream",
     "text": [
      "0\n",
      "1\n",
      "1\n",
      "2\n",
      "3\n",
      "5\n"
     ]
    }
   ],
   "source": [
    "#fibonacci\n",
    "n=6\n",
    "a=0\n",
    "b=1\n",
    "\n",
    "print (a)\n",
    "\n",
    "print(b)\n",
    "\n",
    "for i in range(2,n):\n",
    "        sum=a+b\n",
    "        a=b\n",
    "        b=sum\n",
    "        print(sum)"
   ]
  },
  {
   "cell_type": "code",
   "execution_count": 39,
   "metadata": {},
   "outputs": [
    {
     "data": {
      "text/plain": [
       "8"
      ]
     },
     "execution_count": 39,
     "metadata": {},
     "output_type": "execute_result"
    }
   ],
   "source": [
    "def fib(n):\n",
    "    if n<=1:\n",
    "        return n\n",
    "    else:\n",
    "        return fib(n-1)+fib(n-2)\n",
    "    \n",
    "fib(6)"
   ]
  },
  {
   "cell_type": "code",
   "execution_count": 43,
   "metadata": {},
   "outputs": [
    {
     "data": {
      "text/plain": [
       "8"
      ]
     },
     "execution_count": 43,
     "metadata": {},
     "output_type": "execute_result"
    }
   ],
   "source": [
    "def fibonacci(n):\n",
    "    if n <= 1:\n",
    "        return n\n",
    "    else:\n",
    "        return fibonacci(n-1) + fibonacci(n-2)\n",
    "\n",
    "\n",
    "fibonacci(6)\n"
   ]
  },
  {
   "cell_type": "code",
   "execution_count": 52,
   "metadata": {},
   "outputs": [
    {
     "data": {
      "text/plain": [
       "120"
      ]
     },
     "execution_count": 52,
     "metadata": {},
     "output_type": "execute_result"
    }
   ],
   "source": [
    "#factorial\n",
    "n=5\n",
    "mul=1\n",
    "for i in range (n,1,-1):\n",
    "    mul=mul*i\n",
    "mul\n"
   ]
  },
  {
   "cell_type": "code",
   "execution_count": null,
   "metadata": {},
   "outputs": [
    {
     "data": {
      "text/plain": [
       "Counter({'a': 4, 'b': 3, 'c': 5})"
      ]
     },
     "execution_count": 83,
     "metadata": {},
     "output_type": "execute_result"
    }
   ],
   "source": [
    "from collections import Counter\n",
    "s=\"aaaabbbccccc\"\n",
    "count=Counter(s)\n",
    "count\n",
    "\n",
    "\n",
    "\n"
   ]
  },
  {
   "cell_type": "code",
   "execution_count": 85,
   "metadata": {},
   "outputs": [
    {
     "name": "stdout",
     "output_type": "stream",
     "text": [
      "{'a': 1}\n",
      "{'a': 2}\n",
      "{'a': 3}\n",
      "{'a': 4}\n",
      "{'a': 4, 'b': 1}\n",
      "{'a': 4, 'b': 2}\n",
      "{'a': 4, 'b': 3}\n",
      "{'a': 4, 'b': 3, 'c': 1}\n",
      "{'a': 4, 'b': 3, 'c': 2}\n",
      "{'a': 4, 'b': 3, 'c': 3}\n",
      "{'a': 4, 'b': 3, 'c': 4}\n",
      "{'a': 4, 'b': 3, 'c': 5}\n"
     ]
    }
   ],
   "source": [
    "s=\"aaaabbbccccc\"\n",
    "\n",
    "dic = {}\n",
    "for i in s:\n",
    "    if i not in dic:\n",
    "        dic[i] = 1\n",
    "    else:\n",
    "        dic[i]+=1\n",
    "    print(dic)\n",
    "\n"
   ]
  },
  {
   "cell_type": "code",
   "execution_count": 59,
   "metadata": {},
   "outputs": [
    {
     "data": {
      "text/plain": [
       "2"
      ]
     },
     "execution_count": 59,
     "metadata": {},
     "output_type": "execute_result"
    }
   ],
   "source": [
    "#sum of digits in number\n",
    "a=11\n",
    "sum=0\n",
    "while (a>0):\n",
    "    digit=a%10\n",
    "    sum+=digit\n",
    "    a=a//10\n",
    "sum\n"
   ]
  },
  {
   "cell_type": "code",
   "execution_count": 57,
   "metadata": {},
   "outputs": [
    {
     "data": {
      "text/plain": [
       "78"
      ]
     },
     "execution_count": 57,
     "metadata": {},
     "output_type": "execute_result"
    }
   ],
   "source": [
    "#second larest number in array\n",
    "a=[10,20,88,00,78]\n",
    "a.sort()\n",
    "length=len(a)\n",
    "a[-2]"
   ]
  },
  {
   "cell_type": "code",
   "execution_count": 89,
   "metadata": {},
   "outputs": [
    {
     "data": {
      "text/plain": [
       "'v>'"
      ]
     },
     "execution_count": 89,
     "metadata": {},
     "output_type": "execute_result"
    }
   ],
   "source": [
    "q = \">^\"\n",
    "string = \"\"\n",
    "#arrow question\n",
    "map = {'^': '>', '>': 'v'}\n",
    "for i in q:\n",
    "    string+=map[i]\n",
    "\n",
    "string"
   ]
  },
  {
   "cell_type": "code",
   "execution_count": null,
   "metadata": {},
   "outputs": [],
   "source": []
  }
 ],
 "metadata": {
  "kernelspec": {
   "display_name": "2DIP",
   "language": "python",
   "name": "python3"
  },
  "language_info": {
   "codemirror_mode": {
    "name": "ipython",
    "version": 3
   },
   "file_extension": ".py",
   "mimetype": "text/x-python",
   "name": "python",
   "nbconvert_exporter": "python",
   "pygments_lexer": "ipython3",
   "version": "3.8.13"
  }
 },
 "nbformat": 4,
 "nbformat_minor": 2
}
